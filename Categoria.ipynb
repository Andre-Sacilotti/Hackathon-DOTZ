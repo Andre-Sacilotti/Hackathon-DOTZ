{
 "cells": [
  {
   "cell_type": "code",
   "execution_count": 4,
   "metadata": {},
   "outputs": [],
   "source": [
    "import pandas as pd\n",
    "import numpy as np\n",
    "import time\n",
    "from sklearn.preprocessing import LabelEncoder\n",
    "from sklearn.feature_extraction.text import TfidfVectorizer\n",
    "from sklearn.model_selection import train_test_split\n",
    "import random\n",
    "from sklearn.svm import SVC\n",
    "from sklearn.model_selection import GridSearchCV\n",
    "import re\n",
    "from sklearn.linear_model import LogisticRegression\n",
    "#import ktrain\n",
    "#from ktrain import text\n",
    "from joblib import dump, load\n",
    "import transformers"
   ]
  },
  {
   "cell_type": "code",
   "execution_count": null,
   "metadata": {},
   "outputs": [],
   "source": [
    "df = pd.read_csv('data/Hackathon_Base_Treino_comdep.csv')\n",
    "dfsub = pd.read_csv('data/Hackathon_Base_Teste.csv')"
   ]
  },
  {
   "cell_type": "code",
   "execution_count": null,
   "metadata": {},
   "outputs": [],
   "source": [
    "less = (df['SUB-CATEGORIA'].value_counts() < 2)\n",
    "cats = []\n",
    "for i in range(len(less)):\n",
    "    if(less[i]):\n",
    "        cats.append(less.keys()[i])\n",
    "for i in range(len(df)):\n",
    "    if(df['SUB-CATEGORIA'][i] in cats):\n",
    "        df = df.append(df.iloc[i,:])\n",
    "        \n",
    "vect = TfidfVectorizer(max_features=10000).fit(x_train)"
   ]
  },
  {
   "cell_type": "code",
   "execution_count": null,
   "metadata": {},
   "outputs": [],
   "source": [
    "cat_enc = LabelEncoder()\n",
    "target_cat = cat_enc.fit_transform(df['CATEGORIA'])\n",
    "\n",
    "x_train, x_test, y_train, y_test = train_test_split(df['DESCRIÇÃO PARCEIRO'], target_cat, test_size = 0.1, stratify = target_cat, random_state=42)"
   ]
  },
  {
   "cell_type": "code",
   "execution_count": null,
   "metadata": {},
   "outputs": [],
   "source": [
    "t2 = text.Transformer('distilroberta-base', maxlen=100, classes = np.unique(target_cat))\n",
    "train2 = t2.preprocess_train(list(x_train), y_train)\n",
    "test2 = t2.preprocess_test(list(x_test), y_test)\n",
    "model2 = t2.get_classifier()\n",
    "learner2 = ktrain.get_learner(model2, train_data = train2, val_data=test2, batch_size=6)\n",
    "learner2.model.load_weights('weights-19cat.hdf5')"
   ]
  },
  {
   "cell_type": "code",
   "execution_count": 16,
   "metadata": {},
   "outputs": [],
   "source": [
    "nb = load('models/cat/nbcat.joblib'+ '.compressed') \n",
    "mlp = load('models/cat/mlpcat.joblib'+ '.compressed') \n",
    "knn = load('models/cat/knncat.joblib'+ '.compressed') \n",
    "cnb = load('models/cat/cnbcat.joblib'+ '.compressed') \n",
    "rf = load('models/cat/rfcat.joblib'+ '.compressed') "
   ]
  },
  {
   "cell_type": "code",
   "execution_count": 17,
   "metadata": {},
   "outputs": [
    {
     "data": {
      "text/plain": [
       "RandomForestClassifier(bootstrap=True, class_weight='balanced',\n",
       "                       criterion='gini', max_depth=None, max_features='auto',\n",
       "                       max_leaf_nodes=None, min_impurity_decrease=0.0,\n",
       "                       min_impurity_split=None, min_samples_leaf=1,\n",
       "                       min_samples_split=2, min_weight_fraction_leaf=0.0,\n",
       "                       n_estimators=80, n_jobs=None, oob_score=False,\n",
       "                       random_state=42, verbose=0, warm_start=False)"
      ]
     },
     "execution_count": 17,
     "metadata": {},
     "output_type": "execute_result"
    }
   ],
   "source": [
    "rf "
   ]
  },
  {
   "cell_type": "code",
   "execution_count": null,
   "metadata": {},
   "outputs": [],
   "source": [
    "model_weights = {'BERT2': 0.8691302469936113,\n",
    " 'CNB': 0.26971209717568634,\n",
    " 'KNN': 0.0011019891538130155,\n",
    " 'MLP': 0.17810369061951897,\n",
    " 'MULTINOMIALNB': 0.7467697788345558,\n",
    " 'RF': 0.6671639043827671}\n",
    "\n",
    "model_dict = dict(zip(['MULTINOMIALNB', \"BERT2\", 'MLP', 'RF', 'KNN', 'CNB'],\n",
    "                      [nb, learner2, mlp, rf, knn, cnb]))"
   ]
  },
  {
   "cell_type": "code",
   "execution_count": null,
   "metadata": {},
   "outputs": [],
   "source": [
    "## Bert2\n",
    "predictor = ktrain.get_predictor(learner2.model, preproc = t2)\n",
    "pred3 = predictor.predict(list(aux), return_proba = True)\n",
    "pred3 = pred3*model_weights['BERT2']\n",
    "\n",
    "## Others\n",
    "pred2 = 0\n",
    "for model_name, model in model_dict.items():\n",
    "    print(model_name)\n",
    "    if((model_name != \"BERT\") & (model_name != \"BERT2\") & (model_name != \"SVC\")):\n",
    "        pred2 += model_dict[model_name].predict_proba(vect.transform(aux)) * model_weights[model_name]\n",
    "        \n",
    "## Average\n",
    "pred6 = (pred2+pred3)/sum(model_weights.values())\n",
    "dfsub['CATEGORIA'] = cat_enc.inverse_transform(np.argmax(pred6, axis=1))\n",
    "dfsub.to_csv('data/Hackathon_Base_Teste.csv', index = False)"
   ]
  },
  {
   "cell_type": "code",
   "execution_count": null,
   "metadata": {},
   "outputs": [],
   "source": []
  }
 ],
 "metadata": {
  "kernelspec": {
   "display_name": "Python 3",
   "language": "python",
   "name": "python3"
  },
  "language_info": {
   "codemirror_mode": {
    "name": "ipython",
    "version": 3
   },
   "file_extension": ".py",
   "mimetype": "text/x-python",
   "name": "python",
   "nbconvert_exporter": "python",
   "pygments_lexer": "ipython3",
   "version": "3.7.6"
  }
 },
 "nbformat": 4,
 "nbformat_minor": 4
}
