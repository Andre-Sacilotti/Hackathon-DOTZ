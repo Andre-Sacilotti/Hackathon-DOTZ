{
 "cells": [
  {
   "cell_type": "code",
   "execution_count": 13,
   "metadata": {},
   "outputs": [],
   "source": [
    "import pandas as pd\n",
    "import numpy as np\n",
    "from sklearn.preprocessing import LabelEncoder\n",
    "from sklearn.feature_extraction.text import TfidfVectorizer\n",
    "from sklearn.model_selection import train_test_split\n",
    "import random\n",
    "import re\n",
    "#import ktrain\n",
    "#from ktrain import text\n",
    "from joblib import dump, load"
   ]
  },
  {
   "cell_type": "code",
   "execution_count": 7,
   "metadata": {},
   "outputs": [],
   "source": [
    "df = pd.read_csv('data/Hackathon_Base_Treino_comdep.csv')\n",
    "dfsub = pd.read_csv('data/Hackathon_Base_Teste.csv')"
   ]
  },
  {
   "cell_type": "code",
   "execution_count": 8,
   "metadata": {},
   "outputs": [
    {
     "name": "stdout",
     "output_type": "stream",
     "text": [
      "0\n"
     ]
    }
   ],
   "source": [
    "less = (df['SUB-CATEGORIA'].value_counts() < 2)\n",
    "cats = []\n",
    "for i in range(len(less)):\n",
    "    if(less[i]):\n",
    "        cats.append(less.keys()[i])\n",
    "for i in range(len(df)):\n",
    "    if(df['SUB-CATEGORIA'][i] in cats):\n",
    "        df = df.append(df.iloc[i,:])"
   ]
  },
  {
   "cell_type": "code",
   "execution_count": 9,
   "metadata": {},
   "outputs": [],
   "source": [
    "sub_cat_enc = LabelEncoder()\n",
    "target_catsub = sub_cat_enc.fit_transform(df['SUB-CATEGORIA'])\n",
    "x_train, x_test, y_train, y_test = train_test_split(df['DESCRIÇÃO PARCEIRO'], target_catsub, test_size = 0.1, stratify = target_catsub, random_state=42)\n",
    "\n",
    "vect = TfidfVectorizer(max_features=10000).fit(x_train)"
   ]
  },
  {
   "cell_type": "code",
   "execution_count": null,
   "metadata": {},
   "outputs": [],
   "source": [
    "t2 = text.Transformer('distilroberta-base', maxlen=100, classes = np.unique(target_catsub))\n",
    "train2 = t2.preprocess_train(list(x_train), y_train)\n",
    "test2 = t2.preprocess_test(list(x_test), y_test)\n",
    "model2 = t2.get_classifier()\n",
    "learner2 = ktrain.get_learner(model2, train_data = train2, val_data=test2, batch_size=6)\n",
    "learner2.model.load_weights('models/subcat/weights-20.hdf5')\n",
    "\n",
    "t = text.Transformer('neuralmind/bert-base-portuguese-cased', maxlen=100, classes = np.unique(target_catsub))\n",
    "train = t.preprocess_train(list(x_train), y_train)\n",
    "test = t.preprocess_test(list(x_test), y_test)\n",
    "model = t.get_classifier()\n",
    "learner = ktrain.get_learner(model, train_data = train, val_data=test, batch_size=6)\n",
    "learner.model.load_weights('models/subcat/weights-21.hdf5')"
   ]
  },
  {
   "cell_type": "code",
   "execution_count": 16,
   "metadata": {},
   "outputs": [],
   "source": [
    "nb = load('models/subcat/nb.joblib') \n",
    "mlp = load('models/subcat/mlp.joblib') \n",
    "cnb = load('models/subcat/cnb.joblib') "
   ]
  },
  {
   "cell_type": "code",
   "execution_count": 21,
   "metadata": {},
   "outputs": [
    {
     "data": {
      "text/plain": [
       "MLPClassifier(activation='relu', alpha=0.0001, batch_size='auto', beta_1=0.9,\n",
       "              beta_2=0.999, early_stopping=False, epsilon=1e-08,\n",
       "              hidden_layer_sizes=(200,), learning_rate='constant',\n",
       "              learning_rate_init=0.001, max_iter=200, momentum=0.9,\n",
       "              n_iter_no_change=10, nesterovs_momentum=True, power_t=0.5,\n",
       "              random_state=None, shuffle=True, solver='adam', tol=0.0001,\n",
       "              validation_fraction=0.1, verbose=True, warm_start=False)"
      ]
     },
     "execution_count": 21,
     "metadata": {},
     "output_type": "execute_result"
    }
   ],
   "source": [
    "mlp"
   ]
  },
  {
   "cell_type": "code",
   "execution_count": null,
   "metadata": {},
   "outputs": [],
   "source": [
    "model_weights = {'BERT': 0.8365236754871361,\n",
    " 'BERT2': 0.5430888111169458,\n",
    " 'CNB': 0.051903171320763775,\n",
    " 'MLP': 0.5671334042175022,\n",
    " 'MULTINOMIALNB': 0.0020652658573350998}\n",
    "\n",
    "model_dict = dict(zip(['BERT', 'MULTINOMIALNB', \"CNB\", \"BERT2\", 'MLP'],\n",
    "                      [learner, nb, cnb, learner2, mlp]))"
   ]
  },
  {
   "cell_type": "code",
   "execution_count": null,
   "metadata": {},
   "outputs": [],
   "source": [
    "aux = dfsub['DESCRIÇÃO PARCEIRO']\n",
    "\n",
    "## Bert1\n",
    "predictor = ktrain.get_predictor(learner.model, preproc = t)\n",
    "pred = predictor.predict(list(aux), return_proba = True)\n",
    "pred = pred*model_weights['BERT']\n",
    "\n",
    "## Bert2\n",
    "predictor = ktrain.get_predictor(learner2.model, preproc = t2)\n",
    "pred3 = predictor.predict(list(aux), return_proba = True)\n",
    "pred3 = pred3*model_weights['BERT2']\n",
    "\n",
    "## Others models\n",
    "pred2 = 0\n",
    "for model_name, model in model_dict.items():\n",
    "    print(model_name)\n",
    "    if((model_name != \"BERT\") & (model_name != \"BERT2\")):\n",
    "        pred2 += model_dict[model_name].predict_proba(vect.transform(aux)) * model_weights[model_name]\n",
    "        \n",
    "## Average\n",
    "pred6 = (pred2+pred+pred3)/sum(model_weights.values())\n",
    "dfsub['SUB-CATEGORIA'] = sub_cat_enc.inverse_transform(np.argmax(pred6, axis=1))\n",
    "dfsub.to_csv('data/Hackathon_Base_Teste.csv', index = False)"
   ]
  }
 ],
 "metadata": {
  "kernelspec": {
   "display_name": "Python 3",
   "language": "python",
   "name": "python3"
  },
  "language_info": {
   "codemirror_mode": {
    "name": "ipython",
    "version": 3
   },
   "file_extension": ".py",
   "mimetype": "text/x-python",
   "name": "python",
   "nbconvert_exporter": "python",
   "pygments_lexer": "ipython3",
   "version": "3.7.6"
  }
 },
 "nbformat": 4,
 "nbformat_minor": 4
}
